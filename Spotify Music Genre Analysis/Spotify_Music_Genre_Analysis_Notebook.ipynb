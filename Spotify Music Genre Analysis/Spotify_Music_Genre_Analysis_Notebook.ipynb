{
 "cells": [
  {
   "cell_type": "markdown",
   "metadata": {},
   "source": [
    "<p align=\"left\">\n",
    "  <img src=\"media/logo.png\" alt=\"QFE logo\" width=\"500\">\n",
    "</p>"
   ]
  },
  {
   "cell_type": "markdown",
   "metadata": {},
   "source": [
    "# Spotify Music Genre Analysis"
   ]
  },
  {
   "cell_type": "markdown",
   "metadata": {},
   "source": [
    "## Set up"
   ]
  },
  {
   "cell_type": "code",
   "execution_count": 1,
   "metadata": {
    "_cell_guid": "b1076dfc-b9ad-4769-8c92-a6c4dae69d19",
    "_uuid": "8f2839f25d086af736a60e9eeb907d3b93b6e0e5",
    "execution": {
     "iopub.execute_input": "2025-06-26T15:59:36.094580Z",
     "iopub.status.busy": "2025-06-26T15:59:36.094311Z",
     "iopub.status.idle": "2025-06-26T15:59:37.480422Z",
     "shell.execute_reply": "2025-06-26T15:59:37.479299Z",
     "shell.execute_reply.started": "2025-06-26T15:59:36.094559Z"
    },
    "trusted": true
   },
   "outputs": [
    {
     "name": "stdout",
     "output_type": "stream",
     "text": [
      "/kaggle/input/spotify-tracks-genre-dataset/train.csv\n"
     ]
    }
   ],
   "source": [
    "import numpy as np\n",
    "import pandas as pd\n",
    "import matplotlib.pyplot as plt\n",
    "import seaborn as sns\n",
    "from datetime import datetime as dt\n",
    "\n",
    "from sklearn.feature_extraction.text import TfidfVectorizer\n",
    "from sklearn.decomposition import PCA\n",
    "from sklearn.cluster import KMeans\n",
    "\n",
    "import warnings\n",
    "warnings.filterwarnings('ignore')\n",
    "\n",
    "from wordcloud import WordCloud, STOPWORDS\n",
    "import string, unicodedata\n",
    "import nltk\n",
    "nltk.download('wordnet')\n",
    "from nltk.stem import WordNetLemmatizer\n",
    "nltk.download('stopwords')\n",
    "from nltk.corpus import stopwords\n",
    "nltk.download('omw-1.4')\n",
    "from nltk.tokenize import TweetTokenizer\n",
    "\n",
    "%matplotlib inline\n",
    "sns.set(style=\"ticks\", context=\"notebook\")\n",
    "plt.style.use(\"dark_background\")\n",
    "\n",
    "import os\n",
    "for dirname, _, filenames in os.walk('/kaggle/input'):\n",
    "    for filename in filenames:\n",
    "        print(os.path.join(dirname, filename))"
   ]
  },
  {
   "cell_type": "code",
   "execution_count": 2,
   "metadata": {
    "execution": {
     "iopub.execute_input": "2025-06-26T15:59:41.333938Z",
     "iopub.status.busy": "2025-06-26T15:59:41.333037Z",
     "iopub.status.idle": "2025-06-26T15:59:41.741129Z",
     "shell.execute_reply": "2025-06-26T15:59:41.739944Z",
     "shell.execute_reply.started": "2025-06-26T15:59:41.333833Z"
    },
    "trusted": true
   },
   "outputs": [],
   "source": [
    "# reading data\n",
    "path = '../input/spotify-tracks-genre-dataset/train.csv'\n",
    "\n",
    "original_df = pd.read_csv(path)\n",
    "df = original_df.copy()"
   ]
  },
  {
   "cell_type": "markdown",
   "metadata": {},
   "source": [
    "## New column"
   ]
  },
  {
   "cell_type": "code",
   "execution_count": 19,
   "metadata": {
    "execution": {
     "iopub.execute_input": "2025-06-26T15:59:51.742093Z",
     "iopub.status.busy": "2025-06-26T15:59:51.741750Z",
     "iopub.status.idle": "2025-06-26T15:59:51.809371Z",
     "shell.execute_reply": "2025-06-26T15:59:51.807989Z",
     "shell.execute_reply.started": "2025-06-26T15:59:51.742068Z"
    },
    "trusted": true
   },
   "outputs": [],
   "source": [
    "df['clustering_attributes'] = (df['artists'] + ' ' + \n",
    "                               df['track_name'] + ' ' + \n",
    "                                df['track_genre'])"
   ]
  },
  {
   "cell_type": "markdown",
   "metadata": {},
   "source": [
    "## Stop words"
   ]
  },
  {
   "cell_type": "code",
   "execution_count": 22,
   "metadata": {
    "execution": {
     "iopub.execute_input": "2025-06-26T15:59:55.354413Z",
     "iopub.status.busy": "2025-06-26T15:59:55.354142Z",
     "iopub.status.idle": "2025-06-26T15:59:55.362015Z",
     "shell.execute_reply": "2025-06-26T15:59:55.361349Z",
     "shell.execute_reply.started": "2025-06-26T15:59:55.354396Z"
    },
    "trusted": true
   },
   "outputs": [
    {
     "data": {
      "text/plain": [
       "array(['a', 'about', 'above', 'after', 'again', 'against', 'ain', 'all',\n",
       "       'am', 'an', 'and', 'any', 'are', 'aren', \"aren't\", 'as', 'at',\n",
       "       'be', 'because', 'been', 'before', 'being', 'below', 'between',\n",
       "       'both', 'but', 'by', 'can', 'couldn', \"couldn't\", 'd', 'did',\n",
       "       'didn', \"didn't\", 'do', 'does', 'doesn', \"doesn't\", 'doing', 'don',\n",
       "       \"don't\", 'down', 'during', 'each', 'few', 'for', 'from', 'further',\n",
       "       'had', 'hadn', \"hadn't\", 'has', 'hasn', \"hasn't\", 'have', 'haven',\n",
       "       \"haven't\", 'having', 'he', \"he'd\", \"he'll\", 'her', 'here', 'hers',\n",
       "       'herself', \"he's\", 'him', 'himself', 'his', 'how', 'i', \"i'd\",\n",
       "       'if', \"i'll\", \"i'm\", 'in', 'into', 'is', 'isn', \"isn't\", 'it',\n",
       "       \"it'd\", \"it'll\", \"it's\", 'its', 'itself', \"i've\", 'just', 'll',\n",
       "       'm', 'ma', 'me', 'mightn', \"mightn't\", 'more', 'most', 'mustn',\n",
       "       \"mustn't\", 'my', 'myself', 'needn', \"needn't\", 'no', 'nor', 'not',\n",
       "       'now', 'o', 'of', 'off', 'on', 'once', 'only', 'or', 'other',\n",
       "       'our', 'ours', 'ourselves', 'out', 'over', 'own', 're', 's',\n",
       "       'same', 'shan', \"shan't\", 'she', \"she'd\", \"she'll\", \"she's\",\n",
       "       'should', 'shouldn', \"shouldn't\", \"should've\", 'so', 'some',\n",
       "       'such', 't', 'than', 'that', \"that'll\", 'the', 'their', 'theirs',\n",
       "       'them', 'themselves', 'then', 'there', 'these', 'they', \"they'd\",\n",
       "       \"they'll\", \"they're\", \"they've\", 'this', 'those', 'through', 'to',\n",
       "       'too', 'under', 'until', 'up', 've', 'very', 'was', 'wasn',\n",
       "       \"wasn't\", 'we', \"we'd\", \"we'll\", \"we're\", 'were', 'weren',\n",
       "       \"weren't\", \"we've\", 'what', 'when', 'where', 'which', 'while',\n",
       "       'who', 'whom', 'why', 'will', 'with', 'won', \"won't\", 'wouldn',\n",
       "       \"wouldn't\", 'y', 'you', \"you'd\", \"you'll\", 'your', \"you're\",\n",
       "       'yours', 'yourself', 'yourselves', \"you've\"], dtype='<U10')"
      ]
     },
     "execution_count": 22,
     "metadata": {},
     "output_type": "execute_result"
    }
   ],
   "source": [
    "# extracting the stopwords from nltk library\n",
    "sw = stopwords.words('english')\n",
    "# displaying the stopwords\n",
    "np.array(sw)"
   ]
  },
  {
   "cell_type": "markdown",
   "metadata": {},
   "source": [
    "## Tokenizing words"
   ]
  },
  {
   "cell_type": "code",
   "execution_count": 26,
   "metadata": {
    "execution": {
     "iopub.execute_input": "2025-06-26T16:00:01.946182Z",
     "iopub.status.busy": "2025-06-26T16:00:01.945835Z",
     "iopub.status.idle": "2025-06-26T16:00:04.811310Z",
     "shell.execute_reply": "2025-06-26T16:00:04.810351Z",
     "shell.execute_reply.started": "2025-06-26T16:00:01.946159Z"
    },
    "trusted": true
   },
   "outputs": [],
   "source": [
    "tokenizer = TweetTokenizer()\n",
    "df['clustering_attributes'] = df['clustering_attributes'].apply(lambda x: tokenizer.tokenize(x))"
   ]
  }
 ],
 "metadata": {
  "kaggle": {
   "accelerator": "none",
   "dataSources": [
    {
     "datasetId": 4083552,
     "sourceId": 7087301,
     "sourceType": "datasetVersion"
    }
   ],
   "dockerImageVersionId": 31040,
   "isGpuEnabled": false,
   "isInternetEnabled": true,
   "language": "python",
   "sourceType": "notebook"
  },
  "kernelspec": {
   "display_name": "Python 3",
   "language": "python",
   "name": "python3"
  },
  "language_info": {
   "codemirror_mode": {
    "name": "ipython",
    "version": 3
   },
   "file_extension": ".py",
   "mimetype": "text/x-python",
   "name": "python",
   "nbconvert_exporter": "python",
   "pygments_lexer": "ipython3",
   "version": "3.11.11"
  }
 },
 "nbformat": 4,
 "nbformat_minor": 4
}
